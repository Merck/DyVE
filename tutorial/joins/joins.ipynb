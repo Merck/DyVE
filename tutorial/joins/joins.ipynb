{
 "cells": [
  {
   "cell_type": "markdown",
   "metadata": {},
   "source": [
    "# Hierarchical joins"
   ]
  },
  {
   "cell_type": "code",
   "execution_count": null,
   "metadata": {},
   "outputs": [],
   "source": [
    "using ReactiveDynamics"
   ]
  },
  {
   "cell_type": "markdown",
   "metadata": {},
   "source": [
    "### Environment setup"
   ]
  },
  {
   "cell_type": "code",
   "execution_count": null,
   "metadata": {},
   "outputs": [],
   "source": [
    "n_models = 20; r = 2; γ = 2 # number of submodels, resources\n",
    "rd_models = ReactiveDynamics.ReactionNetwork[] # submodels"
   ]
  },
  {
   "cell_type": "code",
   "execution_count": null,
   "metadata": {},
   "outputs": [],
   "source": [
    "@register begin\n",
    "    ns = Int[] # submodel size\n",
    "    rd_models = ReactionNetwork[] # submodels\n",
    "    ns = Int[] # size of submodels\n",
    "    M = Array[] # transition intensities of submodels\n",
    "    cycle_times = Array[] # cycle times of transitions in submodels\n",
    "    demand = Array[]; production = Array[]; # resource production / generation for transitions in submodels\n",
    "end"
   ]
  },
  {
   "cell_type": "markdown",
   "metadata": {},
   "source": [
    "### Submodels: dense interactions"
   ]
  },
  {
   "cell_type": "code",
   "execution_count": null,
   "metadata": {},
   "outputs": [],
   "source": [
    "@generate {@fileval(submodel.jl, i=$i, r=r), i=1:n_models};"
   ]
  },
  {
   "cell_type": "markdown",
   "metadata": {},
   "source": [
    "### Batch join over the submodels"
   ]
  },
  {
   "cell_type": "code",
   "execution_count": null,
   "metadata": {},
   "outputs": [],
   "source": [
    "rd_model = @generate \"@join {rd_models[\\$i], i=1:n_models, dlm=' '}\"; # switched to string-GenEx to enable ' ' separator"
   ]
  },
  {
   "cell_type": "code",
   "execution_count": null,
   "metadata": {},
   "outputs": [],
   "source": [
    "@generate {@equalize(rd_model, @alias(resource[$j])={rd_models[$i].resource[$j], i=1:n_models, dlm=:(=)}), j=1:r}; # identify respective resource species"
   ]
  },
  {
   "cell_type": "markdown",
   "metadata": {},
   "source": [
    "### Sparse off-diagonal interactions"
   ]
  },
  {
   "cell_type": "code",
   "execution_count": null,
   "metadata": {},
   "outputs": [],
   "source": [
    "sparse_off_diagonal = zeros(sum(ReactiveDynamics.ns), sum(ReactiveDynamics.ns))\n",
    "for i in 1:n_models\n",
    "    j = rand(setdiff(1:n_models, (i, )))\n",
    "    i_ix = rand(1:ReactiveDynamics.ns[i]); j_ix = rand(1:ReactiveDynamics.ns[j])\n",
    "    sparse_off_diagonal[i_ix+sum(ReactiveDynamics.ns[1:i-1]), j_ix+sum(ReactiveDynamics.ns[1:j-1])] += 1\n",
    "    interaction_ex = \"\"\"@push rd_model begin 1., var\"rd_models[$i].state[$i_ix]\" --> var\"rd_models[$j]__state[$j_ix]\" end\"\"\"\n",
    "    eval(Meta.parseall(interaction_ex))\n",
    "end\n",
    "\n",
    "sparse_off_diagonal += cat(ReactiveDynamics.M...; dims=(1,2));"
   ]
  },
  {
   "cell_type": "code",
   "execution_count": null,
   "metadata": {},
   "outputs": [],
   "source": [
    "using Plots; heatmap(1 .- sparse_off_diagonal, color = :greys, legend=false)"
   ]
  },
  {
   "cell_type": "markdown",
   "metadata": {},
   "source": [
    "### Problematize the model"
   ]
  },
  {
   "cell_type": "code",
   "execution_count": null,
   "metadata": {},
   "outputs": [],
   "source": [
    "using ReactiveDynamics: nparts\n",
    "u0 = rand(1:1000, nparts(rd_model, :S))\n",
    "@prob_init rd_model u0\n",
    "\n",
    "@prob_meta rd_model tspan=100\n",
    "\n",
    "prob = @problematize rd_model;"
   ]
  },
  {
   "cell_type": "markdown",
   "metadata": {},
   "source": [
    "### Solve the problem"
   ]
  },
  {
   "cell_type": "code",
   "execution_count": null,
   "metadata": {},
   "outputs": [],
   "source": [
    "sol = @solve prob trajectories=5\n",
    "\n",
    "# plot \"state\" species only\n",
    "@plot sol plot_type=summary show=r\"state\\[1\\]\""
   ]
  }
 ],
 "metadata": {
  "kernelspec": {
   "display_name": "Julia 1.8.5",
   "language": "julia",
   "name": "julia-1.8"
  },
  "language_info": {
   "file_extension": ".jl",
   "mimetype": "application/julia",
   "name": "julia",
   "version": "1.8.5"
  },
  "orig_nbformat": 4
 },
 "nbformat": 4,
 "nbformat_minor": 2
}
